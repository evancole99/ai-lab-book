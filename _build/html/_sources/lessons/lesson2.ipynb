{
 "cells": [
  {
   "cell_type": "markdown",
   "id": "unsigned-mountain",
   "metadata": {},
   "source": [
    "## Get the data"
   ]
  },
  {
   "cell_type": "code",
   "execution_count": 1,
   "id": "involved-blond",
   "metadata": {},
   "outputs": [],
   "source": [
    "import requests\n",
    "\n",
    "url = \"https://ndownloader.figshare.com/files/2292171\"\n",
    "r = requests.get(url)\n",
    "\n",
    "with open('../data/portals_mammal.sqlite', 'wb') as f:\n",
    "    f.write(r.content)"
   ]
  },
  {
   "cell_type": "markdown",
   "id": "continental-monitoring",
   "metadata": {},
   "source": [
    "## Connecting to the database"
   ]
  },
  {
   "cell_type": "code",
   "execution_count": 2,
   "id": "wrong-choir",
   "metadata": {},
   "outputs": [],
   "source": [
    "import sqlite3\n",
    "con= sqlite3.connect('../data/portals_mammal.sqlite')"
   ]
  },
  {
   "cell_type": "markdown",
   "id": "south-enterprise",
   "metadata": {},
   "source": [
    "Let's get some info about the database we connected to:"
   ]
  },
  {
   "cell_type": "code",
   "execution_count": 3,
   "id": "persistent-restoration",
   "metadata": {},
   "outputs": [
    {
     "data": {
      "text/plain": [
       "sqlite3.Connection"
      ]
     },
     "execution_count": 3,
     "metadata": {},
     "output_type": "execute_result"
    }
   ],
   "source": [
    "type(con)"
   ]
  },
  {
   "cell_type": "markdown",
   "id": "macro-layout",
   "metadata": {},
   "source": [
    "Just like spreadsheets, SQLite databases can contain several different tables.  \n",
    "In this example, we have three tables:  \n",
    "* plots\n",
    "* species\n",
    "* surveys  \n",
    "Each table has its own attributes. We can list a table's meta data, including its column headers (labels) using a _pragma statement_:"
   ]
  },
  {
   "cell_type": "code",
   "execution_count": 4,
   "id": "advised-belly",
   "metadata": {},
   "outputs": [
    {
     "name": "stdout",
     "output_type": "stream",
     "text": [
      "[(0, 'record_id', 'BIGINT', 0, None, 0), (1, 'month', 'BIGINT', 0, None, 0), (2, 'day', 'BIGINT', 0, None, 0), (3, 'year', 'BIGINT', 0, None, 0), (4, 'plot_id', 'BIGINT', 0, None, 0), (5, 'species_id', 'TEXT', 0, None, 0), (6, 'sex', 'TEXT', 0, None, 0), (7, 'hindfoot_length', 'INTEGER', 0, None, 0), (8, 'weight', 'INTEGER', 0, None, 0)]\n"
     ]
    }
   ],
   "source": [
    "cursor = con.cursor()\n",
    "cursor.execute(\"pragma table_info(surveys)\")\n",
    "print(cursor.fetchall())"
   ]
  },
  {
   "cell_type": "markdown",
   "id": "removed-steps",
   "metadata": {},
   "source": [
    "From the output, we can see that the table _surveys_ has the following attributes:  \n",
    "* record\\_id\n",
    "* month\n",
    "* day\n",
    "* year\n",
    "* plot\\_id\n",
    "* species\\_id\n",
    "* sex\n",
    "* hindfoot\\_length\n",
    "* weight\n",
    "\n",
    "## Querying the database with SQL syntax\n",
    "\n",
    "Now that we understand the underlying database structure, we can query the database using SQL commands, and display data contained in the tables."
   ]
  },
  {
   "cell_type": "code",
   "execution_count": 5,
   "id": "fifty-circumstances",
   "metadata": {},
   "outputs": [
    {
     "name": "stdout",
     "output_type": "stream",
     "text": [
      "(1977, 'NL', 2)\n"
     ]
    }
   ],
   "source": [
    "cursor.execute(\"select year, species_id, plot_id from surveys\")\n",
    "row1 = cursor.fetchone()\n",
    "print(row1)"
   ]
  },
  {
   "cell_type": "code",
   "execution_count": 6,
   "id": "grateful-balloon",
   "metadata": {},
   "outputs": [
    {
     "name": "stdout",
     "output_type": "stream",
     "text": [
      " The first value is 1977\n"
     ]
    }
   ],
   "source": [
    "print(\" The first value is\", row1[0])"
   ]
  },
  {
   "cell_type": "markdown",
   "id": "herbal-squad",
   "metadata": {},
   "source": [
    "## Querying the database with Pandas syntax\n",
    "\n",
    "Pandas is a powerful data analysis and manipulation tool built on top of Python. Using Pandas, it is possible to perform the same operations as SQL using only Pandas syntax.  \n",
    "\n",
    "Pandas operates using data structures called DataFrames. They are essentially tables of data operating by the normal row-column format. A variety of operations and commands are built in to Pandas, making it a very flexible data analysis tool."
   ]
  },
  {
   "cell_type": "code",
   "execution_count": 7,
   "id": "active-frank",
   "metadata": {},
   "outputs": [
    {
     "data": {
      "text/html": [
       "<div>\n",
       "<style scoped>\n",
       "    .dataframe tbody tr th:only-of-type {\n",
       "        vertical-align: middle;\n",
       "    }\n",
       "\n",
       "    .dataframe tbody tr th {\n",
       "        vertical-align: top;\n",
       "    }\n",
       "\n",
       "    .dataframe thead th {\n",
       "        text-align: right;\n",
       "    }\n",
       "</style>\n",
       "<table border=\"1\" class=\"dataframe\">\n",
       "  <thead>\n",
       "    <tr style=\"text-align: right;\">\n",
       "      <th></th>\n",
       "      <th>record_id</th>\n",
       "      <th>month</th>\n",
       "      <th>day</th>\n",
       "      <th>year</th>\n",
       "      <th>plot_id</th>\n",
       "      <th>species_id</th>\n",
       "      <th>sex</th>\n",
       "      <th>hindfoot_length</th>\n",
       "      <th>weight</th>\n",
       "    </tr>\n",
       "  </thead>\n",
       "  <tbody>\n",
       "    <tr>\n",
       "      <th>0</th>\n",
       "      <td>1</td>\n",
       "      <td>7</td>\n",
       "      <td>16</td>\n",
       "      <td>1977</td>\n",
       "      <td>2</td>\n",
       "      <td>NL</td>\n",
       "      <td>M</td>\n",
       "      <td>32.0</td>\n",
       "      <td>NaN</td>\n",
       "    </tr>\n",
       "    <tr>\n",
       "      <th>1</th>\n",
       "      <td>2</td>\n",
       "      <td>7</td>\n",
       "      <td>16</td>\n",
       "      <td>1977</td>\n",
       "      <td>3</td>\n",
       "      <td>NL</td>\n",
       "      <td>M</td>\n",
       "      <td>33.0</td>\n",
       "      <td>NaN</td>\n",
       "    </tr>\n",
       "    <tr>\n",
       "      <th>2</th>\n",
       "      <td>3</td>\n",
       "      <td>7</td>\n",
       "      <td>16</td>\n",
       "      <td>1977</td>\n",
       "      <td>2</td>\n",
       "      <td>DM</td>\n",
       "      <td>F</td>\n",
       "      <td>37.0</td>\n",
       "      <td>NaN</td>\n",
       "    </tr>\n",
       "    <tr>\n",
       "      <th>3</th>\n",
       "      <td>4</td>\n",
       "      <td>7</td>\n",
       "      <td>16</td>\n",
       "      <td>1977</td>\n",
       "      <td>7</td>\n",
       "      <td>DM</td>\n",
       "      <td>M</td>\n",
       "      <td>36.0</td>\n",
       "      <td>NaN</td>\n",
       "    </tr>\n",
       "    <tr>\n",
       "      <th>4</th>\n",
       "      <td>5</td>\n",
       "      <td>7</td>\n",
       "      <td>16</td>\n",
       "      <td>1977</td>\n",
       "      <td>3</td>\n",
       "      <td>DM</td>\n",
       "      <td>M</td>\n",
       "      <td>35.0</td>\n",
       "      <td>NaN</td>\n",
       "    </tr>\n",
       "  </tbody>\n",
       "</table>\n",
       "</div>"
      ],
      "text/plain": [
       "   record_id  month  day  year  plot_id species_id sex  hindfoot_length  \\\n",
       "0          1      7   16  1977        2         NL   M             32.0   \n",
       "1          2      7   16  1977        3         NL   M             33.0   \n",
       "2          3      7   16  1977        2         DM   F             37.0   \n",
       "3          4      7   16  1977        7         DM   M             36.0   \n",
       "4          5      7   16  1977        3         DM   M             35.0   \n",
       "\n",
       "   weight  \n",
       "0     NaN  \n",
       "1     NaN  \n",
       "2     NaN  \n",
       "3     NaN  \n",
       "4     NaN  "
      ]
     },
     "execution_count": 7,
     "metadata": {},
     "output_type": "execute_result"
    }
   ],
   "source": [
    "import pandas as pd\n",
    "import sqlite3\n",
    "\n",
    "con = sqlite3.connect(\"../data/portals_mammal.sqlite\")\n",
    "\n",
    "# load data from sqlite file into DataFrame\n",
    "surveys = pd.read_sql_query(\"select * from surveys\", con)\n",
    "\n",
    "surveys.head()"
   ]
  },
  {
   "cell_type": "markdown",
   "id": "legitimate-harrison",
   "metadata": {},
   "source": [
    "The _head()_ command lists the first 5 rows of a DataFrame.\n",
    "We can see the entire shape of the table using  _shape_:"
   ]
  },
  {
   "cell_type": "code",
   "execution_count": 8,
   "id": "realistic-effort",
   "metadata": {},
   "outputs": [
    {
     "data": {
      "text/plain": [
       "(35549, 9)"
      ]
     },
     "execution_count": 8,
     "metadata": {},
     "output_type": "execute_result"
    }
   ],
   "source": [
    "surveys.shape"
   ]
  },
  {
   "cell_type": "markdown",
   "id": "sealed-aside",
   "metadata": {},
   "source": [
    "We can see that the _surveys_ table has shape 9 columns x 35549 rows.\n",
    "\n",
    "### SQL translation\n",
    "\n",
    "The following SQL query returns the first 5 rows from _surveys_:\n",
    "``` sql\n",
    "SELECT *\n",
    "FROM `surveys`\n",
    "LIMIT 5\n",
    "```\n",
    "Pandas translates your Python code into SQL, submits it to the database, and translates the database's response into a DataFrame. This example is equivalent to Pandas' _head()_ command.\n",
    "\n",
    "### Simple queries\n",
    "\n",
    "Let's try some simple queries of the _surveys_ table using Pandas. First, we will try to request rows from _surveys_ where _weight_ is less than 5. We will only keep the species\\_id, sex, and weight columns."
   ]
  },
  {
   "cell_type": "code",
   "execution_count": 9,
   "id": "massive-liability",
   "metadata": {},
   "outputs": [
    {
     "data": {
      "text/html": [
       "<div>\n",
       "<style scoped>\n",
       "    .dataframe tbody tr th:only-of-type {\n",
       "        vertical-align: middle;\n",
       "    }\n",
       "\n",
       "    .dataframe tbody tr th {\n",
       "        vertical-align: top;\n",
       "    }\n",
       "\n",
       "    .dataframe thead th {\n",
       "        text-align: right;\n",
       "    }\n",
       "</style>\n",
       "<table border=\"1\" class=\"dataframe\">\n",
       "  <thead>\n",
       "    <tr style=\"text-align: right;\">\n",
       "      <th></th>\n",
       "      <th>species_id</th>\n",
       "      <th>sex</th>\n",
       "      <th>weight</th>\n",
       "    </tr>\n",
       "  </thead>\n",
       "  <tbody>\n",
       "    <tr>\n",
       "      <th>217</th>\n",
       "      <td>PF</td>\n",
       "      <td>M</td>\n",
       "      <td>4.0</td>\n",
       "    </tr>\n",
       "    <tr>\n",
       "      <th>4051</th>\n",
       "      <td>PF</td>\n",
       "      <td>F</td>\n",
       "      <td>4.0</td>\n",
       "    </tr>\n",
       "    <tr>\n",
       "      <th>4289</th>\n",
       "      <td>PF</td>\n",
       "      <td>None</td>\n",
       "      <td>4.0</td>\n",
       "    </tr>\n",
       "    <tr>\n",
       "      <th>5345</th>\n",
       "      <td>PF</td>\n",
       "      <td>F</td>\n",
       "      <td>4.0</td>\n",
       "    </tr>\n",
       "    <tr>\n",
       "      <th>7083</th>\n",
       "      <td>PF</td>\n",
       "      <td>F</td>\n",
       "      <td>4.0</td>\n",
       "    </tr>\n",
       "  </tbody>\n",
       "</table>\n",
       "</div>"
      ],
      "text/plain": [
       "     species_id   sex  weight\n",
       "217          PF     M     4.0\n",
       "4051         PF     F     4.0\n",
       "4289         PF  None     4.0\n",
       "5345         PF     F     4.0\n",
       "7083         PF     F     4.0"
      ]
     },
     "execution_count": 9,
     "metadata": {},
     "output_type": "execute_result"
    }
   ],
   "source": [
    "ltwt = surveys[surveys[\"weight\"] < 5]\n",
    "result = ltwt[[\"species_id\", \"sex\", \"weight\"]]\n",
    "result.head()"
   ]
  },
  {
   "cell_type": "markdown",
   "id": "instrumental-clerk",
   "metadata": {},
   "source": [
    "### Complex queries\n",
    "\n",
    "We can perform more complicated queries across multiple tables.\n",
    "Since we are operating on a relational database, each table may contain _primary key_ and _foreign key_ attributes.  \n",
    "\n",
    "A primary key attribute is a unique identifier for an entry in the table. For example, survey\\_id is the primary key attribute for the _surveys_ table.  \n",
    "A foreign key attribute is a unique identifier for an entry in another table. For example, the plot\\_id attribute of the _surveys_ table is a foreign key referencing the _plots_ table.  \n",
    "\n",
    "We can use these primary and foreign keys to join multiple DataFrames with matching key values.  \n",
    "\n",
    "Let's test this by extracting all surveys for the first plot, which has plot\\_id of 1."
   ]
  },
  {
   "cell_type": "code",
   "execution_count": 10,
   "id": "imported-boundary",
   "metadata": {},
   "outputs": [
    {
     "data": {
      "text/html": [
       "<div>\n",
       "<style scoped>\n",
       "    .dataframe tbody tr th:only-of-type {\n",
       "        vertical-align: middle;\n",
       "    }\n",
       "\n",
       "    .dataframe tbody tr th {\n",
       "        vertical-align: top;\n",
       "    }\n",
       "\n",
       "    .dataframe thead th {\n",
       "        text-align: right;\n",
       "    }\n",
       "</style>\n",
       "<table border=\"1\" class=\"dataframe\">\n",
       "  <thead>\n",
       "    <tr style=\"text-align: right;\">\n",
       "      <th></th>\n",
       "      <th>record_id</th>\n",
       "      <th>month</th>\n",
       "      <th>day</th>\n",
       "      <th>year</th>\n",
       "      <th>plot_id</th>\n",
       "      <th>species_id</th>\n",
       "      <th>sex</th>\n",
       "      <th>hindfoot_length</th>\n",
       "      <th>weight</th>\n",
       "      <th>plot_type</th>\n",
       "    </tr>\n",
       "  </thead>\n",
       "  <tbody>\n",
       "    <tr>\n",
       "      <th>5</th>\n",
       "      <td>6</td>\n",
       "      <td>7</td>\n",
       "      <td>16</td>\n",
       "      <td>1977</td>\n",
       "      <td>1</td>\n",
       "      <td>PF</td>\n",
       "      <td>M</td>\n",
       "      <td>14.0</td>\n",
       "      <td>NaN</td>\n",
       "      <td>Spectab exclosure</td>\n",
       "    </tr>\n",
       "    <tr>\n",
       "      <th>7</th>\n",
       "      <td>8</td>\n",
       "      <td>7</td>\n",
       "      <td>16</td>\n",
       "      <td>1977</td>\n",
       "      <td>1</td>\n",
       "      <td>DM</td>\n",
       "      <td>M</td>\n",
       "      <td>37.0</td>\n",
       "      <td>NaN</td>\n",
       "      <td>Spectab exclosure</td>\n",
       "    </tr>\n",
       "    <tr>\n",
       "      <th>8</th>\n",
       "      <td>9</td>\n",
       "      <td>7</td>\n",
       "      <td>16</td>\n",
       "      <td>1977</td>\n",
       "      <td>1</td>\n",
       "      <td>DM</td>\n",
       "      <td>F</td>\n",
       "      <td>34.0</td>\n",
       "      <td>NaN</td>\n",
       "      <td>Spectab exclosure</td>\n",
       "    </tr>\n",
       "    <tr>\n",
       "      <th>77</th>\n",
       "      <td>78</td>\n",
       "      <td>8</td>\n",
       "      <td>19</td>\n",
       "      <td>1977</td>\n",
       "      <td>1</td>\n",
       "      <td>PF</td>\n",
       "      <td>M</td>\n",
       "      <td>16.0</td>\n",
       "      <td>9.0</td>\n",
       "      <td>Spectab exclosure</td>\n",
       "    </tr>\n",
       "    <tr>\n",
       "      <th>79</th>\n",
       "      <td>80</td>\n",
       "      <td>8</td>\n",
       "      <td>19</td>\n",
       "      <td>1977</td>\n",
       "      <td>1</td>\n",
       "      <td>DS</td>\n",
       "      <td>M</td>\n",
       "      <td>48.0</td>\n",
       "      <td>NaN</td>\n",
       "      <td>Spectab exclosure</td>\n",
       "    </tr>\n",
       "  </tbody>\n",
       "</table>\n",
       "</div>"
      ],
      "text/plain": [
       "    record_id  month  day  year  plot_id species_id sex  hindfoot_length  \\\n",
       "5           6      7   16  1977        1         PF   M             14.0   \n",
       "7           8      7   16  1977        1         DM   M             37.0   \n",
       "8           9      7   16  1977        1         DM   F             34.0   \n",
       "77         78      8   19  1977        1         PF   M             16.0   \n",
       "79         80      8   19  1977        1         DS   M             48.0   \n",
       "\n",
       "    weight          plot_type  \n",
       "5      NaN  Spectab exclosure  \n",
       "7      NaN  Spectab exclosure  \n",
       "8      NaN  Spectab exclosure  \n",
       "77     9.0  Spectab exclosure  \n",
       "79     NaN  Spectab exclosure  "
      ]
     },
     "execution_count": 10,
     "metadata": {},
     "output_type": "execute_result"
    }
   ],
   "source": [
    "# first, let's define our plots and species dataframes\n",
    "plots = pd.read_sql_query(\"select * from plots\", con)\n",
    "species = pd.read_sql_query(\"select * from species\", con)\n",
    "\n",
    "# In order to join by key values, we must set the index to the same key in both dataframes\n",
    "\n",
    "both = surveys.join(plots.set_index('plot_id'), on='plot_id')\n",
    "plot_1 = both[both.plot_id == 1]\n",
    "plot_1.head()\n"
   ]
  },
  {
   "cell_type": "markdown",
   "id": "stable-spyware",
   "metadata": {},
   "source": [
    "Above, we have joined the _plots_ and _surveys_ tables using plot\\_id as the key value. Then, we select only surveys matching plot\\_id of 1.\n",
    "\n",
    "#### Challenge:  \n",
    "\n",
    "Write a Pandas query that returns the number of rodents observed in each plot in each year.  \n",
    "Hint: Create a new DataFrame to join the species and survey tables together. Then exclude non-rodents. The query should return counts of rodents by year.  \n",
    "\n",
    "``` sql\n",
    "SELECT table.col, table.col\n",
    "FROM table1 JOIN table2\n",
    "ON table1.key = table2.key\n",
    "JOIN table3 ON table2.key = table3.key\n",
    "```\n",
    "\n",
    "<details>\n",
    "<summary>Answer:</summary>"
   ]
  },
  {
   "cell_type": "code",
   "execution_count": 11,
   "id": "funky-doctrine",
   "metadata": {},
   "outputs": [
    {
     "data": {
      "text/html": [
       "<div>\n",
       "<style scoped>\n",
       "    .dataframe tbody tr th:only-of-type {\n",
       "        vertical-align: middle;\n",
       "    }\n",
       "\n",
       "    .dataframe tbody tr th {\n",
       "        vertical-align: top;\n",
       "    }\n",
       "\n",
       "    .dataframe thead th {\n",
       "        text-align: right;\n",
       "    }\n",
       "</style>\n",
       "<table border=\"1\" class=\"dataframe\">\n",
       "  <thead>\n",
       "    <tr style=\"text-align: right;\">\n",
       "      <th></th>\n",
       "      <th>count</th>\n",
       "    </tr>\n",
       "    <tr>\n",
       "      <th>year</th>\n",
       "      <th></th>\n",
       "    </tr>\n",
       "  </thead>\n",
       "  <tbody>\n",
       "    <tr>\n",
       "      <th>1977</th>\n",
       "      <td>0</td>\n",
       "    </tr>\n",
       "    <tr>\n",
       "      <th>1978</th>\n",
       "      <td>2</td>\n",
       "    </tr>\n",
       "    <tr>\n",
       "      <th>1979</th>\n",
       "      <td>0</td>\n",
       "    </tr>\n",
       "    <tr>\n",
       "      <th>1980</th>\n",
       "      <td>20</td>\n",
       "    </tr>\n",
       "    <tr>\n",
       "      <th>1981</th>\n",
       "      <td>23</td>\n",
       "    </tr>\n",
       "    <tr>\n",
       "      <th>1982</th>\n",
       "      <td>61</td>\n",
       "    </tr>\n",
       "    <tr>\n",
       "      <th>1983</th>\n",
       "      <td>58</td>\n",
       "    </tr>\n",
       "    <tr>\n",
       "      <th>1984</th>\n",
       "      <td>37</td>\n",
       "    </tr>\n",
       "    <tr>\n",
       "      <th>1985</th>\n",
       "      <td>18</td>\n",
       "    </tr>\n",
       "    <tr>\n",
       "      <th>1986</th>\n",
       "      <td>10</td>\n",
       "    </tr>\n",
       "    <tr>\n",
       "      <th>1987</th>\n",
       "      <td>50</td>\n",
       "    </tr>\n",
       "    <tr>\n",
       "      <th>1988</th>\n",
       "      <td>54</td>\n",
       "    </tr>\n",
       "    <tr>\n",
       "      <th>1989</th>\n",
       "      <td>40</td>\n",
       "    </tr>\n",
       "    <tr>\n",
       "      <th>1990</th>\n",
       "      <td>40</td>\n",
       "    </tr>\n",
       "    <tr>\n",
       "      <th>1991</th>\n",
       "      <td>26</td>\n",
       "    </tr>\n",
       "    <tr>\n",
       "      <th>1992</th>\n",
       "      <td>27</td>\n",
       "    </tr>\n",
       "    <tr>\n",
       "      <th>1993</th>\n",
       "      <td>17</td>\n",
       "    </tr>\n",
       "    <tr>\n",
       "      <th>1994</th>\n",
       "      <td>14</td>\n",
       "    </tr>\n",
       "    <tr>\n",
       "      <th>1995</th>\n",
       "      <td>12</td>\n",
       "    </tr>\n",
       "    <tr>\n",
       "      <th>1996</th>\n",
       "      <td>2</td>\n",
       "    </tr>\n",
       "    <tr>\n",
       "      <th>1997</th>\n",
       "      <td>4</td>\n",
       "    </tr>\n",
       "    <tr>\n",
       "      <th>1998</th>\n",
       "      <td>10</td>\n",
       "    </tr>\n",
       "    <tr>\n",
       "      <th>1999</th>\n",
       "      <td>0</td>\n",
       "    </tr>\n",
       "    <tr>\n",
       "      <th>2000</th>\n",
       "      <td>4</td>\n",
       "    </tr>\n",
       "    <tr>\n",
       "      <th>2001</th>\n",
       "      <td>4</td>\n",
       "    </tr>\n",
       "    <tr>\n",
       "      <th>2002</th>\n",
       "      <td>6</td>\n",
       "    </tr>\n",
       "  </tbody>\n",
       "</table>\n",
       "</div>"
      ],
      "text/plain": [
       "      count\n",
       "year       \n",
       "1977      0\n",
       "1978      2\n",
       "1979      0\n",
       "1980     20\n",
       "1981     23\n",
       "1982     61\n",
       "1983     58\n",
       "1984     37\n",
       "1985     18\n",
       "1986     10\n",
       "1987     50\n",
       "1988     54\n",
       "1989     40\n",
       "1990     40\n",
       "1991     26\n",
       "1992     27\n",
       "1993     17\n",
       "1994     14\n",
       "1995     12\n",
       "1996      2\n",
       "1997      4\n",
       "1998     10\n",
       "1999      0\n",
       "2000      4\n",
       "2001      4\n",
       "2002      6"
      ]
     },
     "execution_count": 11,
     "metadata": {},
     "output_type": "execute_result"
    }
   ],
   "source": [
    "spcs_survs = surveys.join(species.set_index('species_id'), on='species_id')\n",
    "result = spcs_survs[spcs_survs.taxa != 'Rodent']\n",
    "result['taxa'].groupby(result['year']).agg({'count'})"
   ]
  },
  {
   "cell_type": "markdown",
   "id": "passive-feeling",
   "metadata": {},
   "source": [
    "</details>\n",
    "\n",
    "#### Challenge:\n",
    "\n",
    "Write a Pandas query that returns the total number of rodents in each genus caught in the different plot types.  \n",
    "Hint: Write a query that joins species, plot, and surveys tables together. Then group by plot type, and return counts of genus.  \n",
    "\n",
    "<details>\n",
    "<summary>Answer:</summary>"
   ]
  },
  {
   "cell_type": "code",
   "execution_count": 12,
   "id": "taken-education",
   "metadata": {},
   "outputs": [
    {
     "data": {
      "text/html": [
       "<div>\n",
       "<style scoped>\n",
       "    .dataframe tbody tr th:only-of-type {\n",
       "        vertical-align: middle;\n",
       "    }\n",
       "\n",
       "    .dataframe tbody tr th {\n",
       "        vertical-align: top;\n",
       "    }\n",
       "\n",
       "    .dataframe thead th {\n",
       "        text-align: right;\n",
       "    }\n",
       "</style>\n",
       "<table border=\"1\" class=\"dataframe\">\n",
       "  <thead>\n",
       "    <tr style=\"text-align: right;\">\n",
       "      <th></th>\n",
       "      <th>count</th>\n",
       "    </tr>\n",
       "    <tr>\n",
       "      <th>plot_type</th>\n",
       "      <th></th>\n",
       "    </tr>\n",
       "  </thead>\n",
       "  <tbody>\n",
       "    <tr>\n",
       "      <th>Control</th>\n",
       "      <td>145</td>\n",
       "    </tr>\n",
       "    <tr>\n",
       "      <th>Long-term Krat Exclosure</th>\n",
       "      <td>87</td>\n",
       "    </tr>\n",
       "    <tr>\n",
       "      <th>Rodent Exclosure</th>\n",
       "      <td>143</td>\n",
       "    </tr>\n",
       "    <tr>\n",
       "      <th>Short-term Krat Exclosure</th>\n",
       "      <td>137</td>\n",
       "    </tr>\n",
       "    <tr>\n",
       "      <th>Spectab exclosure</th>\n",
       "      <td>27</td>\n",
       "    </tr>\n",
       "  </tbody>\n",
       "</table>\n",
       "</div>"
      ],
      "text/plain": [
       "                           count\n",
       "plot_type                       \n",
       "Control                      145\n",
       "Long-term Krat Exclosure      87\n",
       "Rodent Exclosure             143\n",
       "Short-term Krat Exclosure    137\n",
       "Spectab exclosure             27"
      ]
     },
     "execution_count": 12,
     "metadata": {},
     "output_type": "execute_result"
    }
   ],
   "source": [
    "spcs_survs = surveys.join(species.set_index('species_id'), on='species_id')\n",
    "all = spcs_survs.join(plots.set_index('plot_id'), on='plot_id')\n",
    "result = all[all.taxa != 'Rodent']\n",
    "result['genus'].groupby(result['plot_type']).agg({'count'})"
   ]
  },
  {
   "cell_type": "markdown",
   "id": "mineral-complex",
   "metadata": {},
   "source": [
    "</details>\n",
    "\n",
    "\n",
    "### Creating a new SQLite database\n",
    "\n",
    "Until now, we have used a previously prepared SQLite database. However, it is possible to use Pandas to create a new database. One way to do this is using existing _csv_ files. We are going to recreate the mammals database in Python using Pandas."
   ]
  },
  {
   "cell_type": "code",
   "execution_count": 13,
   "id": "south-breathing",
   "metadata": {},
   "outputs": [],
   "source": [
    "url = \"https://ndownloader.figshare.com/files/3299483\"\n",
    "r = requests.get(url)\n",
    "\n",
    "with open('../data/species.csv', 'wb') as f:\n",
    "    f.write(r.content)\n",
    "\n",
    "url = \"https://ndownloader.figshare.com/files/10717177\"\n",
    "r = requests.get(url)\n",
    "\n",
    "with open('../data/surveys.csv', 'wb') as f:\n",
    "    f.write(r.content)\n",
    "\n",
    "url = \"https://ndownloader.figshare.com/files/3299474\"\n",
    "r = requests.get(url)\n",
    "\n",
    "with open('../data/plots.csv', 'wb') as f:\n",
    "    f.write(r.content)\n",
    "\n",
    "# We can use pandas read_csv to easily create dataframes\n",
    "surveys = pd.read_csv('../data/surveys.csv')\n",
    "species = pd.read_csv('../data/species.csv')\n",
    "plots = pd.read_csv('../data/plots.csv')\n"
   ]
  },
  {
   "cell_type": "markdown",
   "id": "clear-proposal",
   "metadata": {},
   "source": [
    "Now arises the problem of writing the DataFrames to an SQLite database. Thankfully, Pandas offers a very handy built in function. All we have to do is create the database and call to\\_sql on the dataframe."
   ]
  },
  {
   "cell_type": "code",
   "execution_count": 14,
   "id": "german-contact",
   "metadata": {},
   "outputs": [
    {
     "name": "stdout",
     "output_type": "stream",
     "text": [
      "(0, 1, 7, 16, 1977, 2, 'NL', 'M', 32.0, None)\n"
     ]
    }
   ],
   "source": [
    "con = sqlite3.connect('../data/mammals.sqlite')\n",
    "surveys.to_sql('surveys', con, if_exists='replace')\n",
    "species.to_sql('species', con, if_exists='replace')\n",
    "plots.to_sql('plots', con, if_exists='replace')\n",
    "\n",
    "cursor = con.cursor()\n",
    "cursor.execute('select * from surveys')\n",
    "row1 = cursor.fetchone()\n",
    "print (row1)"
   ]
  },
  {
   "cell_type": "markdown",
   "id": "discrete-enough",
   "metadata": {},
   "source": [
    "And that is it! Our SQLite database is built. From there, we can perform any SQL queries like usual, or continue to use Pandas to alter the data."
   ]
  }
 ],
 "metadata": {
  "jupytext": {
   "text_representation": {
    "extension": ".md",
    "format_name": "myst"
   }
  },
  "kernelspec": {
   "display_name": "Python 3",
   "language": "python",
   "name": "python3"
  },
  "language_info": {
   "codemirror_mode": {
    "name": "ipython",
    "version": 3
   },
   "file_extension": ".py",
   "mimetype": "text/x-python",
   "name": "python",
   "nbconvert_exporter": "python",
   "pygments_lexer": "ipython3",
   "version": "3.8.5"
  },
  "source_map": [
   10,
   15,
   23,
   28,
   31,
   35,
   37,
   46,
   50,
   68,
   74,
   76,
   85,
   95,
   100,
   102,
   119,
   123,
   137,
   148,
   167,
   171,
   182,
   187,
   196,
   220,
   224,
   234
  ]
 },
 "nbformat": 4,
 "nbformat_minor": 5
}