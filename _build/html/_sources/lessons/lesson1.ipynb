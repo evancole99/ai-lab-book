{
 "cells": [
  {
   "cell_type": "markdown",
   "id": "northern-fight",
   "metadata": {},
   "source": [
    "[![Lesson 1 Video](http://img.youtube.com/vi/Z2tV0hcnauY/0.jpg)](http://www.youtube.com/watch?v=Z2tV0hcnauY \"Lesson 1\")\n",
    "\n",
    "## Get the data  \n",
    "\n",
    "To get started, we have to request the SQLite file."
   ]
  },
  {
   "cell_type": "code",
   "execution_count": 1,
   "id": "desperate-paradise",
   "metadata": {},
   "outputs": [],
   "source": [
    "import requests\n",
    "\n",
    "url = \"https://ndownloader.figshare.com/files/2292171\"\n",
    "r = requests.get(url)\n",
    "\n",
    "with open('../data/portals_mammal.sqlite', 'wb') as f:\n",
    "    f.write(r.content)"
   ]
  },
  {
   "cell_type": "markdown",
   "id": "known-monroe",
   "metadata": {},
   "source": [
    "## Connecting to the database  \n",
    "\n",
    "Now that we have the data, we can connect through SQLite."
   ]
  },
  {
   "cell_type": "code",
   "execution_count": 2,
   "id": "suited-monkey",
   "metadata": {},
   "outputs": [],
   "source": [
    "import sqlite3\n",
    "con= sqlite3.connect('../data/portals_mammal.sqlite')"
   ]
  },
  {
   "cell_type": "code",
   "execution_count": 3,
   "id": "lasting-brooks",
   "metadata": {},
   "outputs": [
    {
     "data": {
      "text/plain": [
       "sqlite3.Connection"
      ]
     },
     "execution_count": 3,
     "metadata": {},
     "output_type": "execute_result"
    }
   ],
   "source": [
    "type(con)"
   ]
  },
  {
   "cell_type": "markdown",
   "id": "vocational-purple",
   "metadata": {},
   "source": [
    "Here, we perform a basic SELECT operation, selecting:\n",
    "* year, species_id, and plot_id from _surveys_.  \n",
    "This selects those attributes from the surveys relation, and ignores all others."
   ]
  },
  {
   "cell_type": "code",
   "execution_count": 4,
   "id": "greek-finding",
   "metadata": {},
   "outputs": [
    {
     "data": {
      "text/plain": [
       "<sqlite3.Cursor at 0x7f1e5dfa7ea0>"
      ]
     },
     "execution_count": 4,
     "metadata": {},
     "output_type": "execute_result"
    }
   ],
   "source": [
    "cursor = con.cursor()\n",
    "cursor.execute(\"select year, species_id, plot_id from surveys\")"
   ]
  },
  {
   "cell_type": "markdown",
   "id": "southern-exclusion",
   "metadata": {},
   "source": [
    "Print the first row from the selected attributes."
   ]
  },
  {
   "cell_type": "code",
   "execution_count": 5,
   "id": "grave-translation",
   "metadata": {},
   "outputs": [
    {
     "name": "stdout",
     "output_type": "stream",
     "text": [
      "(1977, 'NL', 2)\n"
     ]
    }
   ],
   "source": [
    "row1 = cursor.fetchone()\n",
    "print(row1)"
   ]
  },
  {
   "cell_type": "code",
   "execution_count": 6,
   "id": "maritime-print",
   "metadata": {},
   "outputs": [
    {
     "name": "stdout",
     "output_type": "stream",
     "text": [
      " The first value is 1977\n"
     ]
    }
   ],
   "source": [
    "print(\" The first value is\", row1[0])"
   ]
  },
  {
   "cell_type": "markdown",
   "id": "stable-outreach",
   "metadata": {},
   "source": [
    "Here, we try the same select, but limit the number of rows to 10."
   ]
  },
  {
   "cell_type": "code",
   "execution_count": 7,
   "id": "premium-enzyme",
   "metadata": {},
   "outputs": [
    {
     "name": "stdout",
     "output_type": "stream",
     "text": [
      "(1977, 'NL', 2)\n",
      "(1977, 'NL', 3)\n",
      "(1977, 'DM', 2)\n",
      "(1977, 'DM', 7)\n",
      "(1977, 'DM', 3)\n",
      "(1977, 'PF', 1)\n",
      "(1977, 'PE', 2)\n",
      "(1977, 'DM', 1)\n",
      "(1977, 'DM', 1)\n",
      "(1977, 'PF', 6)\n"
     ]
    }
   ],
   "source": [
    "cursor.execute(\"select year, species_id, plot_id from surveys limit 10\")\n",
    "all_rows = cursor.fetchall()\n",
    "for row in all_rows:\n",
    "    print(row)"
   ]
  },
  {
   "cell_type": "markdown",
   "id": "chinese-diana",
   "metadata": {},
   "source": [
    "In this SQL operation, we are going to add both _conditionals_ and the _JOIN_ operator.  \n",
    "\n",
    "The _JOIN_ operator combines rows from two or more tables, using the following syntax:  \n",
    "> (SET 1) join (SET 2) on (set1.id = set2.id)  \n",
    " \n",
    "We can also add additional conditions to the join by adding a _where_ operation:\n",
    "\n",
    "> where (condition = \"value\")  \n",
    "\n",
    "In the following example, we join the _surveys_ and _species_ relations, using species_id as the relationship key. We select only species matching the species name \"flavus\" surveyed past the year 2000.\n",
    "Limit of 10 is added to reduce the table size."
   ]
  },
  {
   "cell_type": "code",
   "execution_count": 8,
   "id": "authentic-mount",
   "metadata": {},
   "outputs": [
    {
     "name": "stdout",
     "output_type": "stream",
     "text": [
      "(2002, 2, 9, 'Perognathus', 'flavus')\n",
      "(2002, 2, 10, 'Perognathus', 'flavus')\n",
      "(2002, 3, 14, 'Perognathus', 'flavus')\n",
      "(2002, 3, 14, 'Perognathus', 'flavus')\n",
      "(2002, 3, 14, 'Perognathus', 'flavus')\n",
      "(2002, 3, 14, 'Perognathus', 'flavus')\n",
      "(2001, 3, 25, 'Perognathus', 'flavus')\n",
      "(2002, 4, 17, 'Perognathus', 'flavus')\n",
      "(2002, 4, 17, 'Perognathus', 'flavus')\n",
      "(2001, 4, 21, 'Perognathus', 'flavus')\n"
     ]
    }
   ],
   "source": [
    "sql = \"\"\"\n",
    "select surveys.year, surveys.month, surveys.day, species.genus, species.species\n",
    "from surveys\n",
    "join species\n",
    "on surveys.species_id = species.species_id\n",
    "where species.species = \"flavus\"\n",
    "and surveys.year > 2000\n",
    "limit 10\n",
    "\"\"\"\n",
    "\n",
    "cursor.execute(sql)\n",
    "for row in cursor:\n",
    "    print(row)"
   ]
  },
  {
   "cell_type": "markdown",
   "id": "eligible-county",
   "metadata": {},
   "source": [
    "  \n",
    "In this example, we perform the same select and join operations as the previous code block, but rather than select all surveys of \"flavus\" above year 2000, we select only surveys taken in 1996, 1997, or 1998.\n",
    "Again, we limit 10 to reduce table size."
   ]
  },
  {
   "cell_type": "code",
   "execution_count": 9,
   "id": "advance-finding",
   "metadata": {},
   "outputs": [
    {
     "name": "stdout",
     "output_type": "stream",
     "text": [
      "(1996, 1, 27, 'Perognathus', 'flavus')\n",
      "(1996, 1, 27, 'Perognathus', 'flavus')\n",
      "(1996, 1, 27, 'Perognathus', 'flavus')\n",
      "(1996, 1, 27, 'Perognathus', 'flavus')\n",
      "(1996, 1, 27, 'Perognathus', 'flavus')\n",
      "(1996, 1, 27, 'Perognathus', 'flavus')\n",
      "(1996, 1, 27, 'Perognathus', 'flavus')\n",
      "(1996, 1, 28, 'Perognathus', 'flavus')\n",
      "(1996, 1, 28, 'Perognathus', 'flavus')\n",
      "(1996, 1, 28, 'Perognathus', 'flavus')\n"
     ]
    }
   ],
   "source": [
    "sql = \"\"\"\n",
    "select surveys.year, surveys.month, surveys.day, species.genus, species.species\n",
    "from surveys\n",
    "join species\n",
    "on surveys.species_id = species.species_id\n",
    "where species.species = \"flavus\"\n",
    "and surveys.year in (1996, 1997, 1998)\n",
    "limit 10\n",
    "\"\"\"\n",
    "\n",
    "cursor.execute(sql)\n",
    "for row in cursor:\n",
    "    print(row)"
   ]
  },
  {
   "cell_type": "markdown",
   "id": "explicit-class",
   "metadata": {},
   "source": [
    "## SQL and Pandas\n",
    "\n",
    "**Challenge: modify last query to find surveys that were conducted in July or December in the year 1996, 1997, or 1998**"
   ]
  },
  {
   "cell_type": "code",
   "execution_count": 10,
   "id": "educated-attendance",
   "metadata": {},
   "outputs": [
    {
     "name": "stdout",
     "output_type": "stream",
     "text": [
      "   year  month  day        genus species\n",
      "0  2002      2    9  Perognathus  flavus\n",
      "1  2002      2   10  Perognathus  flavus\n",
      "2  2002      3   14  Perognathus  flavus\n",
      "3  2002      3   14  Perognathus  flavus\n",
      "4  2002      3   14  Perognathus  flavus\n"
     ]
    }
   ],
   "source": [
    "import pandas as pd\n",
    "import sqlite3\n",
    "\n",
    "con = sqlite3.connect(\"../data/portals_mammal.sqlite\")\n",
    "\n",
    "sql = \"\"\"\n",
    "select surveys.year, surveys.month, surveys.day, species.genus, species.species\n",
    "from surveys\n",
    "join species\n",
    "on surveys.species_id = species.species_id\n",
    "where species.species = \"flavus\"\n",
    "and surveys.year > 2000\n",
    "\"\"\"\n",
    "\n",
    "df = pd.read_sql_query(sql, con)\n",
    "print(df.head())\n",
    "con.close()\n"
   ]
  },
  {
   "cell_type": "markdown",
   "id": "atlantic-plane",
   "metadata": {},
   "source": [
    "Answer:\n",
    "> and surveys.year in (1996, 1997, 1998) and surveys.month = \"December\"\n",
    "\n",
    "\n",
    "## Creating a SQL table with pandas\n",
    "\n",
    "Pandas is a data analysis tool built on the Numpy package that makes it very easy to manipulate and format databases and tables into usable structures.  \n",
    "\n",
    "First off, it is important to have both Pandas and SQLite3 installed and up-to-date. These rely on Python3, so you may need to update your PATH if you are still on Python 2.x.  \n",
    "\n",
    "#### A quick explanation of Pandas\n",
    "\n",
    "Pandas utilizes a key datastructure called the DataFrame. DataFrames allow you to store and manipulate tabular data in rows of obervations and columns of variables.  \n",
    "\n",
    "There are many ways to create DataFrames from existing files (for example, one popular method is reading from CSV files). In this instance, we will be reading data from our SQLite file into a DataFrame using a custom SQL query, similar to the previous examples."
   ]
  },
  {
   "cell_type": "code",
   "execution_count": 11,
   "id": "polish-formation",
   "metadata": {},
   "outputs": [],
   "source": [
    "import pandas as pd\n",
    "import sqlite3\n",
    "\n",
    "con = sqlite3.connect(\"../data/portals_mammal.sqlite\")\n",
    "# load the data into a DataFrame\n",
    "survey_df = pd.read_sql_query(\"select * from surveys\", con)\n",
    "\n",
    "# Select only data from 2002\n",
    "surveys2002 = survey_df[survey_df.year == 2002]\n",
    "\n",
    "# Write the new dataframe to a new sqlite \n",
    "surveys2002.to_sql(\"surveys2002\", con, if_exists=\"replace\")\n",
    "\n"
   ]
  },
  {
   "cell_type": "markdown",
   "id": "ranking-circle",
   "metadata": {},
   "source": [
    "We can use the DataFrames to create new SQL tables, as seen in the final line of the previous example. Now, we can perform additional SQL operations to manipulate our data further."
   ]
  },
  {
   "cell_type": "code",
   "execution_count": 12,
   "id": "polyphonic-waste",
   "metadata": {},
   "outputs": [
    {
     "name": "stdout",
     "output_type": "stream",
     "text": [
      "   index  record_id  month  day  year  plot_id species_id   sex  \\\n",
      "0  33320      33321      1   12  2002        1         DM     M   \n",
      "1  33321      33322      1   12  2002        1         DO     M   \n",
      "2  33322      33323      1   12  2002        1         PB     M   \n",
      "3  33323      33324      1   12  2002        1         AB  None   \n",
      "4  33324      33325      1   12  2002        1         DO     M   \n",
      "\n",
      "   hindfoot_length  weight  \n",
      "0             38.0    44.0  \n",
      "1             37.0    58.0  \n",
      "2             28.0    45.0  \n",
      "3              NaN     NaN  \n",
      "4             35.0    29.0  \n"
     ]
    }
   ],
   "source": [
    "df = pd.read_sql_query(\"select * from surveys2002\", con)\n",
    "print(df.head())\n",
    "con.close()"
   ]
  }
 ],
 "metadata": {
  "jupytext": {
   "text_representation": {
    "extension": ".md",
    "format_name": "myst"
   }
  },
  "kernelspec": {
   "display_name": "Python 3",
   "language": "python",
   "name": "python3"
  },
  "language_info": {
   "codemirror_mode": {
    "name": "ipython",
    "version": 3
   },
   "file_extension": ".py",
   "mimetype": "text/x-python",
   "name": "python",
   "nbconvert_exporter": "python",
   "pygments_lexer": "ipython3",
   "version": "3.8.5"
  },
  "source_map": [
   10,
   18,
   26,
   32,
   39,
   41,
   48,
   51,
   56,
   62,
   64,
   68,
   73,
   86,
   100,
   105,
   119,
   126,
   145,
   163,
   178,
   183
  ]
 },
 "nbformat": 4,
 "nbformat_minor": 5
}