{
 "cells": [
  {
   "cell_type": "markdown",
   "id": "italic-success",
   "metadata": {},
   "source": [
    "## Using APIs\n",
    "\n",
    "In this lesson, we will use Yahoo Finance's API to download stock data and insert it into our investment tracking database, upon which we can do additional calculations.\n",
    "\n",
    "The only table in the database that we are concerned with for this lesson is the _stock_ table. However, there are many more tables to play around with, allowing for more complex programs and queries. For a more detailed overview of the database, watch the video embedded below.\n",
    "\n",
    "### Stock table: Schema\n",
    "\n",
    "Below is an overview of the schema of the stock table.\n",
    "Note: The database is updated often, so it is possible this schema is out of date.  You can check the current schema by running the _.schema table_ command in sqlite3.  \n",
    "\n",
    "Stock:\n",
    "* **ticker** varchar(5)\n",
    "    * The stock's ticker symbol, as listed on the stock exchange. Up to 5 characters.\n",
    "* **mkt**\\_**date** varchar(10)\n",
    "    * Date in YYYY-MM-DD format.\n",
    "* **open** float(16)\n",
    "    * Price per share at market open.\n",
    "* **high** float(16)\n",
    "    * Highest price during trading hours.\n",
    "* **low** float(16)\n",
    "    * Lowest price during trading hours.\n",
    "* **close** float(16)\n",
    "    * Price per share at market close.\n",
    "* **adj**\\_**close** float(16)\n",
    "    * The stock's adjusted closing price, factoring in other actions after close. Considered to be more accurate.\n",
    "* **volume** int\n",
    "    * Number of shares traded during trading hours.  \n",
    "\n",
    "The primary key of this table is (mkt\\_date, ticker).\n",
    "\n",
    "\n",
    "### Importing libraries\n",
    "\n",
    "First of all, we have to import all of the necessary libraries. We will be using pandas, pandas datareader, datetime, yfinance, and sqlite3.  \n",
    "\n",
    "Then, as usual, we connect to the database using sqlite3."
   ]
  },
  {
   "cell_type": "code",
   "execution_count": 1,
   "id": "alpha-formation",
   "metadata": {},
   "outputs": [],
   "source": [
    "from pandas_datareader import data as pdr\n",
    "from datetime import datetime, date, timedelta\n",
    "import yfinance as yf\n",
    "yf.pdr_override() # overrides yfinance to expect pandas datareader\n",
    "import pandas as pd\n",
    "import sqlite3\n",
    "\n",
    "con = sqlite3.connect(\"../data/invest_tracker.db\")\n",
    "cur = con.cursor()"
   ]
  },
  {
   "cell_type": "markdown",
   "id": "instructional-breast",
   "metadata": {},
   "source": [
    "### Calling the API  \n",
    "\n",
    "Now, we will build a simple function to download today's stock market prices from the given ticker. Thankfully, YFinance does all of the hard work for us, so weonly need to make a single API call.  \n",
    "\n",
    "The get\\_data\\_yahoo call on pandas datareader automatically queries the API, downloads data on the given ticker and date range, and writes it to a dataframe. Since we are only querying a single day, the returned dataframe will only contain a single row."
   ]
  },
  {
   "cell_type": "code",
   "execution_count": 2,
   "id": "pressing-wisconsin",
   "metadata": {},
   "outputs": [],
   "source": [
    "today = date.today()\n",
    "yesterday = today - timedelta(days=1)\n",
    "def getData(ticker):\n",
    "    print(\"Fetching \", ticker)\n",
    "    data = pdr.get_data_yahoo(ticker, start=yesterday, end=today)\n",
    "    return data"
   ]
  },
  {
   "cell_type": "markdown",
   "id": "modified-directory",
   "metadata": {},
   "source": [
    "### Read and write data\n",
    "\n",
    "All that is left to do now is pick a list of stock tickers, and use the function we just built to download the data. Once we have done that, we can prepare the data to be inserted into the database via SQL queries.  \n",
    "\n",
    "Let's break down each line of the for loop below, to better understand exactly what is going on.  \n",
    "\n",
    "For each ticker in the ticker list:\n",
    "* Call the API to download data into dataframe\n",
    "* Reset the index of the dataframe, so it is not indexed by the date\n",
    "* Set the dataframe's column names and in the correct order\n",
    "* Insert a column for the ticker at index 1\n",
    "* Prepare SQL insertion command\n",
    "* Get the single row of data\n",
    "* Convert the date into proper format\n",
    "* Execute the SQL command, making sure to give the proper datatype to each column"
   ]
  },
  {
   "cell_type": "code",
   "execution_count": 3,
   "id": "rubber-exclusive",
   "metadata": {},
   "outputs": [
    {
     "name": "stdout",
     "output_type": "stream",
     "text": [
      "Fetching  AAPL\n",
      "\r",
      "[*********************100%***********************]  1 of 1 completed"
     ]
    },
    {
     "name": "stdout",
     "output_type": "stream",
     "text": [
      "\n",
      "mkt_date     2021-04-21 00:00:00\n",
      "ticker                      AAPL\n",
      "open                  132.360001\n",
      "high                      133.75\n",
      "low                   131.300003\n",
      "close                      133.5\n",
      "adj_close                  133.5\n",
      "volume                  68728500\n",
      "Name: 0, dtype: object\n",
      "Fetching  GOOGL\n"
     ]
    },
    {
     "name": "stdout",
     "output_type": "stream",
     "text": [
      "\r",
      "[*********************100%***********************]  1 of 1 completed"
     ]
    },
    {
     "name": "stdout",
     "output_type": "stream",
     "text": [
      "\n",
      "mkt_date     2021-04-21 00:00:00\n",
      "ticker                     GOOGL\n",
      "open                 2272.050049\n",
      "high                      2280.0\n",
      "low                  2244.820068\n",
      "close                2278.350098\n",
      "adj_close            2278.350098\n",
      "volume                   1159500\n",
      "Name: 0, dtype: object\n",
      "Fetching  FB\n"
     ]
    },
    {
     "name": "stdout",
     "output_type": "stream",
     "text": [
      "\r",
      "[*********************100%***********************]  1 of 1 completed"
     ]
    },
    {
     "name": "stdout",
     "output_type": "stream",
     "text": [
      "\n",
      "mkt_date     2021-04-21 00:00:00\n",
      "ticker                        FB\n",
      "open                  301.950012\n",
      "high                  301.980011\n",
      "low                   297.390015\n",
      "close                 301.470001\n",
      "adj_close             301.470001\n",
      "volume                  14849000\n",
      "Name: 0, dtype: object\n",
      "Fetching  MSFT\n"
     ]
    },
    {
     "name": "stdout",
     "output_type": "stream",
     "text": [
      "\r",
      "[*********************100%***********************]  1 of 1 completed"
     ]
    },
    {
     "name": "stdout",
     "output_type": "stream",
     "text": [
      "\n",
      "mkt_date     2021-04-21 00:00:00\n",
      "ticker                      MSFT\n",
      "open                  258.940002\n",
      "high                  260.679993\n",
      "low                       257.25\n",
      "close                 260.579987\n",
      "adj_close             260.579987\n",
      "volume                  24009300\n",
      "Name: 0, dtype: object\n"
     ]
    }
   ],
   "source": [
    "ticker_list = ['AAPL', 'GOOGL', 'FB', 'MSFT']\n",
    "\n",
    "for tik in ticker_list:\n",
    "    tik_data = getData(tik)\n",
    "    tik_data.reset_index(inplace=True)\n",
    "    \n",
    "    tik_data.columns = ['mkt_date', 'open', 'high', 'low', 'close', 'adj_close', 'volume']\n",
    "    tik_data.insert(1, 'ticker', tik)\n",
    "    tik_data.set_index('ticker')\n",
    "    \n",
    "    sql = \"INSERT or IGNORE INTO stock (mkt_date, ticker, open, high, low, close, adj_close, volume) VALUES (?, ?, ?, ?, ?, ?, ?, ?)\"\n",
    "    row = tik_data.iloc[0]\n",
    "    print(row)\n",
    "    date_stripped = row.mkt_date.date()\n",
    "    cur.execute(sql, (str(date_stripped), str(row.ticker), float(row.open), float(row.high), float(row.low), float(row.close), float(row.adj_close), int(row.volume)))\n",
    "\n",
    "con.commit()\n",
    "con.close()"
   ]
  },
  {
   "cell_type": "markdown",
   "id": "nervous-reward",
   "metadata": {},
   "source": [
    "And with those few lines of code, we now have up-to-date stock market data on any ticker we want in our database. We could expand upon this code to download as many days, weeks, or months of data as we wish, and could perform all sorts of different plots, graphs, or calculations.  \n",
    "\n",
    "For a more comprehensive example on how this data can be used to track personal investments, see the advanced version of the stock API code found in the [extra content](https://github.com/uri-ai-lab/ai-lab-book) folder.\n",
    "\n",
    "The YFinance module is also capable of a lot more. For full documentation on its uses, you can find the [code on GitHub](https://github.com/ranaroussi/yfinance)."
   ]
  }
 ],
 "metadata": {
  "jupytext": {
   "text_representation": {
    "extension": ".md",
    "format_name": "myst"
   }
  },
  "kernelspec": {
   "display_name": "Python 3",
   "language": "python",
   "name": "python3"
  },
  "language_info": {
   "codemirror_mode": {
    "name": "ipython",
    "version": 3
   },
   "file_extension": ".py",
   "mimetype": "text/x-python",
   "name": "python",
   "nbconvert_exporter": "python",
   "pygments_lexer": "ipython3",
   "version": "3.8.5"
  },
  "source_map": [
   10,
   50,
   60,
   68,
   76,
   96,
   115
  ]
 },
 "nbformat": 4,
 "nbformat_minor": 5
}